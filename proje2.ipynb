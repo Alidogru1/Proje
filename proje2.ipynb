{
  "nbformat": 4,
  "nbformat_minor": 0,
  "metadata": {
    "colab": {
      "provenance": [],
      "collapsed_sections": []
    },
    "kernelspec": {
      "name": "python3",
      "display_name": "Python 3"
    },
    "language_info": {
      "name": "python"
    },
    "accelerator": "GPU"
  },
  "cells": [
    {
      "cell_type": "code",
      "execution_count": 1,
      "metadata": {
        "colab": {
          "base_uri": "https://localhost:8080/"
        },
        "id": "39EzKBbSIbSq",
        "outputId": "576c31fe-5cf9-40ec-e58c-35b1192080af"
      },
      "outputs": [
        {
          "output_type": "stream",
          "name": "stdout",
          "text": [
            "Mounted at /content/drive\n"
          ]
        }
      ],
      "source": [
        "import pandas as pd\n",
        "from google.colab import drive\n",
        "drive.mount(\"/content/drive\")\n"
      ]
    },
    {
      "cell_type": "code",
      "source": [
        "import numpy as np\n",
        "x_train = np.load(\"/content/drive/MyDrive/Proje/data.npy\")\n",
        "y_train = np.load(\"/content/drive/MyDrive/Proje/data2.npy\")\n",
        "x_test = np.load(\"/content/drive/MyDrive/Proje/data3.npy\")\n",
        "y_test = np.load(\"/content/drive/MyDrive/Proje/data4.npy\")\n",
        "x_val = np.load(\"/content/drive/MyDrive/Proje/data5.npy\")\n",
        "y_val = np.load(\"/content/drive/MyDrive/Proje/data6.npy\")"
      ],
      "metadata": {
        "id": "4refOf6Muu8g"
      },
      "execution_count": 2,
      "outputs": []
    },
    {
      "cell_type": "code",
      "source": [
        "\n",
        "import tensorflow as tf\n",
        "\n",
        "model =tf.keras.Sequential()"
      ],
      "metadata": {
        "id": "6lwi1lqPJUEb"
      },
      "execution_count": 3,
      "outputs": []
    },
    {
      "cell_type": "code",
      "source": [
        "model.add(tf.keras.layers.Conv2D(64,(3,3),1,activation=\"relu\", input_shape=(24,32,3)))\n",
        "model.add(tf.keras.layers.MaxPooling2D())\n",
        "model.add(tf.keras.layers.Conv2D(64,(3,3),1,activation=\"relu\"))\n",
        "model.add(tf.keras.layers.MaxPooling2D())\n",
        "model.add(tf.keras.layers.Conv2D(64,(3,3),1,activation=\"relu\"))\n",
        "model.add(tf.keras.layers.MaxPooling2D())\n",
        "model.add(tf.keras.layers.Flatten())\n",
        "model.add(tf.keras.layers.Dense(256,activation=\"relu\")) \n",
        "model.add(tf.keras.layers.Dense(1,activation=\"softmax\")) "
      ],
      "metadata": {
        "id": "B_HJBGfuKw6K"
      },
      "execution_count": 4,
      "outputs": []
    },
    {
      "cell_type": "code",
      "source": [
        "model.compile(optimizer=\"adam\",\n",
        "              loss = \"sparse_categorical_crossentropy\",\n",
        "              metrics = [\"accuracy\"])"
      ],
      "metadata": {
        "id": "41fKOgmnNGg2"
      },
      "execution_count": 5,
      "outputs": []
    },
    {
      "cell_type": "code",
      "source": [
        "results= model.fit(x_train, y_train, epochs=30, validation_data=(x_val, y_val))"
      ],
      "metadata": {
        "colab": {
          "base_uri": "https://localhost:8080/"
        },
        "id": "YFEkt8P5wICl",
        "outputId": "66270ddf-3b1a-433d-ba88-5655a27485bb"
      },
      "execution_count": 6,
      "outputs": [
        {
          "output_type": "stream",
          "name": "stdout",
          "text": [
            "Epoch 1/30\n",
            "1181/1181 [==============================] - 15s 4ms/step - loss: nan - accuracy: 0.0215 - val_loss: nan - val_accuracy: 0.0214\n",
            "Epoch 2/30\n",
            "1181/1181 [==============================] - 5s 4ms/step - loss: nan - accuracy: 0.0214 - val_loss: nan - val_accuracy: 0.0214\n",
            "Epoch 3/30\n",
            "1181/1181 [==============================] - 5s 4ms/step - loss: nan - accuracy: 0.0214 - val_loss: nan - val_accuracy: 0.0214\n",
            "Epoch 4/30\n",
            "1181/1181 [==============================] - 5s 4ms/step - loss: nan - accuracy: 0.0214 - val_loss: nan - val_accuracy: 0.0214\n",
            "Epoch 5/30\n",
            "1181/1181 [==============================] - 5s 4ms/step - loss: nan - accuracy: 0.0214 - val_loss: nan - val_accuracy: 0.0214\n",
            "Epoch 6/30\n",
            "1181/1181 [==============================] - 5s 4ms/step - loss: nan - accuracy: 0.0214 - val_loss: nan - val_accuracy: 0.0214\n",
            "Epoch 7/30\n",
            "1181/1181 [==============================] - 5s 4ms/step - loss: nan - accuracy: 0.0214 - val_loss: nan - val_accuracy: 0.0214\n",
            "Epoch 8/30\n",
            "1181/1181 [==============================] - 5s 4ms/step - loss: nan - accuracy: 0.0214 - val_loss: nan - val_accuracy: 0.0214\n",
            "Epoch 9/30\n",
            "1181/1181 [==============================] - 5s 4ms/step - loss: nan - accuracy: 0.0214 - val_loss: nan - val_accuracy: 0.0214\n",
            "Epoch 10/30\n",
            "1181/1181 [==============================] - 5s 4ms/step - loss: nan - accuracy: 0.0214 - val_loss: nan - val_accuracy: 0.0214\n",
            "Epoch 11/30\n",
            "1181/1181 [==============================] - 5s 4ms/step - loss: nan - accuracy: 0.0214 - val_loss: nan - val_accuracy: 0.0214\n",
            "Epoch 12/30\n",
            "1181/1181 [==============================] - 5s 5ms/step - loss: nan - accuracy: 0.0214 - val_loss: nan - val_accuracy: 0.0214\n",
            "Epoch 13/30\n",
            "1181/1181 [==============================] - 6s 5ms/step - loss: nan - accuracy: 0.0214 - val_loss: nan - val_accuracy: 0.0214\n",
            "Epoch 14/30\n",
            "1181/1181 [==============================] - 5s 4ms/step - loss: nan - accuracy: 0.0214 - val_loss: nan - val_accuracy: 0.0214\n",
            "Epoch 15/30\n",
            "1181/1181 [==============================] - 5s 4ms/step - loss: nan - accuracy: 0.0214 - val_loss: nan - val_accuracy: 0.0214\n",
            "Epoch 16/30\n",
            "1181/1181 [==============================] - 5s 4ms/step - loss: nan - accuracy: 0.0214 - val_loss: nan - val_accuracy: 0.0214\n",
            "Epoch 17/30\n",
            "1181/1181 [==============================] - 5s 4ms/step - loss: nan - accuracy: 0.0214 - val_loss: nan - val_accuracy: 0.0214\n",
            "Epoch 18/30\n",
            "1181/1181 [==============================] - 5s 4ms/step - loss: nan - accuracy: 0.0214 - val_loss: nan - val_accuracy: 0.0214\n",
            "Epoch 19/30\n",
            "1181/1181 [==============================] - 5s 4ms/step - loss: nan - accuracy: 0.0214 - val_loss: nan - val_accuracy: 0.0214\n",
            "Epoch 20/30\n",
            "1181/1181 [==============================] - 5s 4ms/step - loss: nan - accuracy: 0.0214 - val_loss: nan - val_accuracy: 0.0214\n",
            "Epoch 21/30\n",
            "1181/1181 [==============================] - 5s 4ms/step - loss: nan - accuracy: 0.0214 - val_loss: nan - val_accuracy: 0.0214\n",
            "Epoch 22/30\n",
            "1181/1181 [==============================] - 5s 4ms/step - loss: nan - accuracy: 0.0214 - val_loss: nan - val_accuracy: 0.0214\n",
            "Epoch 23/30\n",
            "1181/1181 [==============================] - 5s 4ms/step - loss: nan - accuracy: 0.0214 - val_loss: nan - val_accuracy: 0.0214\n",
            "Epoch 24/30\n",
            "1181/1181 [==============================] - 5s 4ms/step - loss: nan - accuracy: 0.0214 - val_loss: nan - val_accuracy: 0.0214\n",
            "Epoch 25/30\n",
            "1181/1181 [==============================] - 5s 4ms/step - loss: nan - accuracy: 0.0214 - val_loss: nan - val_accuracy: 0.0214\n",
            "Epoch 26/30\n",
            "1181/1181 [==============================] - 5s 4ms/step - loss: nan - accuracy: 0.0214 - val_loss: nan - val_accuracy: 0.0214\n",
            "Epoch 27/30\n",
            "1181/1181 [==============================] - 5s 4ms/step - loss: nan - accuracy: 0.0214 - val_loss: nan - val_accuracy: 0.0214\n",
            "Epoch 28/30\n",
            "1181/1181 [==============================] - 5s 4ms/step - loss: nan - accuracy: 0.0214 - val_loss: nan - val_accuracy: 0.0214\n",
            "Epoch 29/30\n",
            "1181/1181 [==============================] - 5s 4ms/step - loss: nan - accuracy: 0.0214 - val_loss: nan - val_accuracy: 0.0214\n",
            "Epoch 30/30\n",
            "1181/1181 [==============================] - 5s 4ms/step - loss: nan - accuracy: 0.0214 - val_loss: nan - val_accuracy: 0.0214\n"
          ]
        }
      ]
    },
    {
      "cell_type": "code",
      "source": [
        "\n",
        "plt.plot(results.history[\"accuracy\"], label =\"accuracy\")\n",
        "plt.plot(results.history[\"val_accuracy\"], label =\"val_accuracy\")\n",
        "plt.xlabel(\"Epoch\")\n",
        "plt.ylabel(\"Accuracy\")\n",
        "plt.legend()\n",
        "plt.show()"
      ],
      "metadata": {
        "colab": {
          "base_uri": "https://localhost:8080/",
          "height": 279
        },
        "id": "6f5sc4vIwtcD",
        "outputId": "aebe4d06-4229-47f3-d18d-122caa95b50e"
      },
      "execution_count": 8,
      "outputs": [
        {
          "output_type": "display_data",
          "data": {
            "text/plain": [
              "<Figure size 432x288 with 1 Axes>"
            ],
            "image/png": "[encoded data removed]"
          },
          "metadata": {
            "needs_background": "light"
          }
        }
      ]
    },
    {
      "cell_type": "code",
      "source": [
        "model.evaluate(x_test, y_test)"
      ],
      "metadata": {
        "colab": {
          "base_uri": "https://localhost:8080/"
        },
        "id": "oor2boIPw6KM",
        "outputId": "08a07581-c258-4955-ab56-725553010a06"
      },
      "execution_count": 9,
      "outputs": [
        {
          "output_type": "stream",
          "name": "stdout",
          "text": [
            "148/148 [==============================] - 0s 3ms/step - loss: nan - accuracy: 0.0191\n"
          ]
        },
        {
          "output_type": "execute_result",
          "data": {
            "text/plain": [
              "[nan, 0.019059721380472183]"
            ]
          },
          "metadata": {},
          "execution_count": 9
        }
      ]
    },
    {
      "cell_type": "code",
      "source": [
        "prediction_result=model.predict(x_test[1].reshape(1,24,32,3))\n",
        "prediction_result"
      ],
      "metadata": {
        "colab": {
          "base_uri": "https://localhost:8080/"
        },
        "id": "VaB3OAPIyXQ3",
        "outputId": "a898533a-0a9b-4e04-a6fe-d603ac48ae40"
      },
      "execution_count": 10,
      "outputs": [
        {
          "output_type": "execute_result",
          "data": {
            "text/plain": [
              "array([[nan]], dtype=float32)"
            ]
          },
          "metadata": {},
          "execution_count": 10
        }
      ]
    }
  ]
}