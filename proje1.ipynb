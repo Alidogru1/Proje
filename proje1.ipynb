{
  "nbformat": 4,
  "nbformat_minor": 0,
  "metadata": {
    "colab": {
      "provenance": [],
      "collapsed_sections": []
    },
    "kernelspec": {
      "name": "python3",
      "display_name": "Python 3"
    },
    "language_info": {
      "name": "python"
    },
    "accelerator": "GPU"
  },
  "cells": [
    {
      "cell_type": "code",
      "execution_count": 1,
      "metadata": {
        "colab": {
          "base_uri": "https://localhost:8080/"
        },
        "id": "gdhIXA37D25k",
        "outputId": "d6f40364-5920-4c88-8668-ae6d5d77701f"
      },
      "outputs": [
        {
          "output_type": "stream",
          "name": "stdout",
          "text": [
            "Mounted at /content/drive\n"
          ]
        }
      ],
      "source": [
        "from google.colab import drive\n",
        "drive.mount(\"/content/drive\")\n",
        "import cv2\n",
        "import matplotlib.pyplot as plt\n",
        "import matplotlib.image as mpimg\n",
        "import os\n",
        "from PIL import Image"
      ]
    },
    {
      "cell_type": "code",
      "source": [
        "gorseller=[]\n",
        "def proje1(x):\n",
        "  folder=f\"/content/drive/MyDrive/Proje/spectrograms/{x}\"\n",
        "  for filename in os.listdir(folder):\n",
        "        img = Image.open(os.path.join(folder,filename)).convert(\"L\") \n",
        "        img.thumbnail((32,32)) \n",
        "        img.save(\"resized_\"+filename, optimize=True, quality=20)\n",
        "  images = [file for file in os.listdir() if file.endswith(('jpeg', 'png', 'jpg'))]\n",
        "  for image in images :\n",
        "    img = cv2.imread(image)\n",
        "    final_img = cv2.normalize(img,  None, 0, 1, cv2.NORM_MINMAX) \n",
        "    gorseller.append([final_img, x])\n"
      ],
      "metadata": {
        "id": "JWEwkvpUEE9X"
      },
      "execution_count": 3,
      "outputs": []
    },
    {
      "cell_type": "code",
      "source": [
        "for i in range(0,10):\n",
        "  proje1(i)"
      ],
      "metadata": {
        "id": "m4O8qsK6EYYX"
      },
      "execution_count": 4,
      "outputs": []
    },
    {
      "cell_type": "code",
      "source": [
        "x = [i[0] for i in gorseller]\n",
        "y = [i[1] for i in gorseller]"
      ],
      "metadata": {
        "id": "m9iZMU_JPpvo"
      },
      "execution_count": 5,
      "outputs": []
    },
    {
      "cell_type": "code",
      "source": [
        "\n",
        "from sklearn.preprocessing import LabelEncoder, minmax_scale\n",
        "from sklearn.model_selection import train_test_split\n",
        "x_train, x_temporary, y_train, y_temporary = train_test_split(x, y, train_size= 0.8)\n",
        "x_val, x_test, y_val, y_test=train_test_split(x_temporary, y_temporary, train_size= 0.5)"
      ],
      "metadata": {
        "id": "MnBJAQlCPrCF"
      },
      "execution_count": 6,
      "outputs": []
    },
    {
      "cell_type": "code",
      "source": [
        "import numpy as np\n",
        "np.save(\"/content/drive/MyDrive/Proje/data.npy\", x_train)\n",
        "np.save(\"/content/drive/MyDrive/Proje/data2.npy\", y_train)\n",
        "np.save(\"/content/drive/MyDrive/Proje/data3.npy\", x_test)\n",
        "np.save(\"/content/drive/MyDrive/Proje/data4.npy\", y_test)\n",
        "np.save(\"/content/drive/MyDrive/Proje/data5.npy\", x_val)\n",
        "np.save(\"/content/drive/MyDrive/Proje/data6.npy\", y_val)"
      ],
      "metadata": {
        "id": "PSiGnvfekMUn"
      },
      "execution_count": 7,
      "outputs": []
    }
  ]
}